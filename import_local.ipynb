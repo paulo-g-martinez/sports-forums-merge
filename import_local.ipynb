{
 "cells": [
  {
   "cell_type": "code",
   "execution_count": 1,
   "metadata": {
    "collapsed": true
   },
   "outputs": [],
   "source": [
    "import os\n",
    "import numpy as np\n",
    "import logging\n",
    "import datetime\n",
    "import json\n",
    "import glob\n",
    "import pandas as pd "
   ]
  },
  {
   "cell_type": "code",
   "execution_count": 13,
   "metadata": {},
   "outputs": [],
   "source": [
    "for val in range(22, 1):\n",
    "    print(val)\n"
   ]
  },
  {
   "cell_type": "code",
   "execution_count": 2,
   "metadata": {},
   "outputs": [
    {
     "name": "stdout",
     "output_type": "stream",
     "text": [
      "data/StreamToS3-5-2017-10-22-18*\n"
     ]
    }
   ],
   "source": [
    "hr_nm = \"18\"\n",
    "path = \"data/StreamToS3-5-2017-10-22-\" + hr_nm + \"*\"\n",
    "file_test = \"data/StreamToS3-5-2017-10-22-18-59-42-04ae75a6-5fde-4d0c-a75f-d9301c4dc6fb\"\n",
    "#path = os.path.join('data\\StreamToS3-5-2017-10-22-', hr_nm)\n",
    "print(path)"
   ]
  },
  {
   "cell_type": "code",
   "execution_count": 3,
   "metadata": {
    "collapsed": true
   },
   "outputs": [],
   "source": [
    "def import_hour_files(path_dir, hr_num): \n",
    "    path = path_dir + hr_num  + \"*\"\n",
    "    newsletter_traffic = []\n",
    "    print(path)\n",
    "    for idx, fname in enumerate(glob.iglob(path)):\n",
    "        logger = logging.getLogger()\n",
    "        with open(fname, \"r\") as f:\n",
    "            contents = f.read()\n",
    "            for bit in contents[1:-1].split('}{'):\n",
    "                try:\n",
    "                    rec = json.loads(\"{\" + bit + \"}\")\n",
    "                    newsletter_traffic.append(rec)\n",
    "                except ValueError as e:\n",
    "                    logger.warning(\"BAD JSON\")\n",
    "                    continue\n",
    "    return newsletter_traffic\n"
   ]
  },
  {
   "cell_type": "code",
   "execution_count": 4,
   "metadata": {},
   "outputs": [
    {
     "name": "stdout",
     "output_type": "stream",
     "text": [
      "data/StreamToS3-5-2017-10-22-18*\n"
     ]
    }
   ],
   "source": [
    "test_list = import_hour_files(path_dir=\"data/StreamToS3-5-2017-10-22-\", hr_num=\"18\")"
   ]
  },
  {
   "cell_type": "code",
   "execution_count": 5,
   "metadata": {},
   "outputs": [
    {
     "name": "stdout",
     "output_type": "stream",
     "text": [
      "175724\n",
      "{'pathRoot': 'GALLERY', 'userAgent': 'Mozilla/5.0 (Linux; Android 5.1.1; SM-J100VPP Build/LMY48B) AppleWebKit/537.36 (KHTML, like Gecko) Chrome/55.0.2883.91 Mobile Safari/537.36', 'referrer': 'http://lm.facebook.com/l.php?u=http%3A%2F%2Fapi.nanigans.com%2Ftarget.php%3Fapp_id%3D312727%26nan_pid%3D1862608003%26target%3D%252F%252Fsea.247sports.com%252FGallery%252FLogos-for-all-32-NFL-Teams-re-imagined-as-professional-wrestlers-106650830%252FGallerySlides%252F662065%253Fftag%253DACQ-07-10aac1b%2526vndid%253D1862608003%2526nan_pid%253D1862608003%2526ad_id%253D7103994%26args&h=ATPpBZyA8mDN2CePikcsp9Gy0bY8vr4G_3wPmXd-hrCwGLXmRmT_qyRGbrJVgMoZNOj7Qivoh5yvtulKP79ojKhXiroBCqbgSBagHWj9kSidEwARFPB_Cl4d0M-lJfoI60gG9ZCXkix4E5furc8MJmytV23cNlc', 'timeStamp': 'Sun, 22 Oct 2017 18:00:41 GMT', 'userStatus': 'Guest', 'contentKey': 1557005915, 'siteKey': 2490368, 'authorKey': 1000669260, 'publishedDate': '8/29/2017 9:11:35 PM', 'userId': '5252076e-8bfc-4fae-a2f1-4ff6ed1adab6'}\n",
      "<class 'list'>\n"
     ]
    }
   ],
   "source": [
    "print(len(test_list))\n",
    "print(test_list[0])\n",
    "print(type(test_list))"
   ]
  },
  {
   "cell_type": "code",
   "execution_count": 6,
   "metadata": {
    "collapsed": true
   },
   "outputs": [],
   "source": [
    "test_df = pd.DataFrame(test_list)"
   ]
  },
  {
   "cell_type": "code",
   "execution_count": 7,
   "metadata": {
    "collapsed": true
   },
   "outputs": [],
   "source": [
    "import datetime"
   ]
  },
  {
   "cell_type": "code",
   "execution_count": 9,
   "metadata": {},
   "outputs": [
    {
     "name": "stdout",
     "output_type": "stream",
     "text": [
      "2017-10-31\n",
      "<class 'datetime.date'>\n"
     ]
    }
   ],
   "source": [
    "END_DATE = datetime.date(2017, 10, 31)\n",
    "print(END_DATE)\n",
    "print(type(END_DATE))"
   ]
  },
  {
   "cell_type": "code",
   "execution_count": 71,
   "metadata": {
    "scrolled": true
   },
   "outputs": [
    {
     "data": {
      "text/html": [
       "<div>\n",
       "<style>\n",
       "    .dataframe thead tr:only-child th {\n",
       "        text-align: right;\n",
       "    }\n",
       "\n",
       "    .dataframe thead th {\n",
       "        text-align: left;\n",
       "    }\n",
       "\n",
       "    .dataframe tbody tr th {\n",
       "        vertical-align: top;\n",
       "    }\n",
       "</style>\n",
       "<table border=\"1\" class=\"dataframe\">\n",
       "  <thead>\n",
       "    <tr style=\"text-align: right;\">\n",
       "      <th></th>\n",
       "      <th>authorKey</th>\n",
       "      <th>contentKey</th>\n",
       "      <th>pathRoot</th>\n",
       "      <th>publishedDate</th>\n",
       "      <th>referrer</th>\n",
       "      <th>siteKey</th>\n",
       "      <th>timeStamp</th>\n",
       "      <th>userAgent</th>\n",
       "      <th>userId</th>\n",
       "      <th>userStatus</th>\n",
       "    </tr>\n",
       "  </thead>\n",
       "  <tbody>\n",
       "    <tr>\n",
       "      <th>count</th>\n",
       "      <td>175724</td>\n",
       "      <td>175724</td>\n",
       "      <td>175724</td>\n",
       "      <td>171520</td>\n",
       "      <td>162075</td>\n",
       "      <td>175724</td>\n",
       "      <td>175723</td>\n",
       "      <td>175724</td>\n",
       "      <td>174221</td>\n",
       "      <td>175724</td>\n",
       "    </tr>\n",
       "    <tr>\n",
       "      <th>unique</th>\n",
       "      <td>321</td>\n",
       "      <td>1403</td>\n",
       "      <td>127</td>\n",
       "      <td>1393</td>\n",
       "      <td>1476</td>\n",
       "      <td>45</td>\n",
       "      <td>3886</td>\n",
       "      <td>10918</td>\n",
       "      <td>53986</td>\n",
       "      <td>2</td>\n",
       "    </tr>\n",
       "    <tr>\n",
       "      <th>top</th>\n",
       "      <td>1000669260.0</td>\n",
       "      <td>3513583235.0</td>\n",
       "      <td>GALLERY</td>\n",
       "      <td>10/22/2017 11:21:44 AM</td>\n",
       "      <td>http://m.facebook.com</td>\n",
       "      <td>24248320</td>\n",
       "      <td>2017-10-22 18:48:00</td>\n",
       "      <td>Mozilla/5.0 (Windows NT 10.0; Win64; x64) Appl...</td>\n",
       "      <td>680b8738-4b5c-4428-85b1-dc3b36a0c61d</td>\n",
       "      <td>Guest</td>\n",
       "    </tr>\n",
       "    <tr>\n",
       "      <th>freq</th>\n",
       "      <td>48032</td>\n",
       "      <td>14075</td>\n",
       "      <td>82263</td>\n",
       "      <td>14340</td>\n",
       "      <td>70469</td>\n",
       "      <td>30858</td>\n",
       "      <td>81</td>\n",
       "      <td>4631</td>\n",
       "      <td>201</td>\n",
       "      <td>168372</td>\n",
       "    </tr>\n",
       "    <tr>\n",
       "      <th>first</th>\n",
       "      <td>NaN</td>\n",
       "      <td>NaN</td>\n",
       "      <td>NaN</td>\n",
       "      <td>NaN</td>\n",
       "      <td>NaN</td>\n",
       "      <td>NaN</td>\n",
       "      <td>2017-10-22 15:57:12</td>\n",
       "      <td>NaN</td>\n",
       "      <td>NaN</td>\n",
       "      <td>NaN</td>\n",
       "    </tr>\n",
       "    <tr>\n",
       "      <th>last</th>\n",
       "      <td>NaN</td>\n",
       "      <td>NaN</td>\n",
       "      <td>NaN</td>\n",
       "      <td>NaN</td>\n",
       "      <td>NaN</td>\n",
       "      <td>NaN</td>\n",
       "      <td>2017-10-22 19:08:21</td>\n",
       "      <td>NaN</td>\n",
       "      <td>NaN</td>\n",
       "      <td>NaN</td>\n",
       "    </tr>\n",
       "  </tbody>\n",
       "</table>\n",
       "</div>"
      ],
      "text/plain": [
       "           authorKey    contentKey pathRoot           publishedDate  \\\n",
       "count         175724        175724   175724                  171520   \n",
       "unique           321          1403      127                    1393   \n",
       "top     1000669260.0  3513583235.0  GALLERY  10/22/2017 11:21:44 AM   \n",
       "freq           48032         14075    82263                   14340   \n",
       "first            NaN           NaN      NaN                     NaN   \n",
       "last             NaN           NaN      NaN                     NaN   \n",
       "\n",
       "                     referrer   siteKey            timeStamp  \\\n",
       "count                  162075    175724               175723   \n",
       "unique                   1476        45                 3886   \n",
       "top     http://m.facebook.com  24248320  2017-10-22 18:48:00   \n",
       "freq                    70469     30858                   81   \n",
       "first                     NaN       NaN  2017-10-22 15:57:12   \n",
       "last                      NaN       NaN  2017-10-22 19:08:21   \n",
       "\n",
       "                                                userAgent  \\\n",
       "count                                              175724   \n",
       "unique                                              10918   \n",
       "top     Mozilla/5.0 (Windows NT 10.0; Win64; x64) Appl...   \n",
       "freq                                                 4631   \n",
       "first                                                 NaN   \n",
       "last                                                  NaN   \n",
       "\n",
       "                                      userId userStatus  \n",
       "count                                 174221     175724  \n",
       "unique                                 53986          2  \n",
       "top     680b8738-4b5c-4428-85b1-dc3b36a0c61d      Guest  \n",
       "freq                                     201     168372  \n",
       "first                                    NaN        NaN  \n",
       "last                                     NaN        NaN  "
      ]
     },
     "execution_count": 71,
     "metadata": {},
     "output_type": "execute_result"
    }
   ],
   "source": [
    "test_df.authorKey = test_df.authorKey.astype(str)\n",
    "test_df.contentKey = test_df.contentKey.astype(str)\n",
    "test_df.siteKey = test_df.siteKey.astype(str)\n",
    "test_df.timeStamp = pd.to_datetime(test_df.timeStamp)\n",
    "\n",
    "test_df.describe()"
   ]
  },
  {
   "cell_type": "code",
   "execution_count": null,
   "metadata": {
    "collapsed": true
   },
   "outputs": [],
   "source": [
    "userdata_df.withColumnRenamed(\"referrer\", \"path_root\")"
   ]
  },
  {
   "cell_type": "code",
   "execution_count": 16,
   "metadata": {},
   "outputs": [
    {
     "data": {
      "text/plain": [
       "Index(['authorKey', 'contentKey', 'pathRoot', 'publishedDate', 'referrer',\n",
       "       'siteKey', 'timeStamp', 'userAgent', 'userId', 'userStatus'],\n",
       "      dtype='object')"
      ]
     },
     "execution_count": 16,
     "metadata": {},
     "output_type": "execute_result"
    }
   ],
   "source": [
    "test_df.columns"
   ]
  },
  {
   "cell_type": "code",
   "execution_count": 72,
   "metadata": {
    "scrolled": true
   },
   "outputs": [
    {
     "data": {
      "text/html": [
       "<div>\n",
       "<style>\n",
       "    .dataframe thead tr:only-child th {\n",
       "        text-align: right;\n",
       "    }\n",
       "\n",
       "    .dataframe thead th {\n",
       "        text-align: left;\n",
       "    }\n",
       "\n",
       "    .dataframe tbody tr th {\n",
       "        vertical-align: top;\n",
       "    }\n",
       "</style>\n",
       "<table border=\"1\" class=\"dataframe\">\n",
       "  <thead>\n",
       "    <tr style=\"text-align: right;\">\n",
       "      <th></th>\n",
       "      <th>authorKey</th>\n",
       "      <th>contentKey</th>\n",
       "      <th>pathRoot</th>\n",
       "      <th>publishedDate</th>\n",
       "      <th>referrer</th>\n",
       "      <th>siteKey</th>\n",
       "      <th>timeStamp</th>\n",
       "      <th>userAgent</th>\n",
       "      <th>userId</th>\n",
       "      <th>userStatus</th>\n",
       "    </tr>\n",
       "  </thead>\n",
       "  <tbody>\n",
       "    <tr>\n",
       "      <th>0</th>\n",
       "      <td>1000669260.0</td>\n",
       "      <td>1557005915.0</td>\n",
       "      <td>GALLERY</td>\n",
       "      <td>8/29/2017 9:11:35 PM</td>\n",
       "      <td>http://lm.facebook.com/l.php?u=http%3A%2F%2Fap...</td>\n",
       "      <td>2490368</td>\n",
       "      <td>2017-10-22 18:00:41</td>\n",
       "      <td>Mozilla/5.0 (Linux; Android 5.1.1; SM-J100VPP ...</td>\n",
       "      <td>5252076e-8bfc-4fae-a2f1-4ff6ed1adab6</td>\n",
       "      <td>Guest</td>\n",
       "    </tr>\n",
       "    <tr>\n",
       "      <th>1</th>\n",
       "      <td>1090453527.0</td>\n",
       "      <td>2719417987.0</td>\n",
       "      <td>BOARD</td>\n",
       "      <td>10/22/2017 5:10:29 AM</td>\n",
       "      <td>https://scout.com/nfl/vikings/Board/102855/Con...</td>\n",
       "      <td>69664768</td>\n",
       "      <td>2017-10-22 18:00:45</td>\n",
       "      <td>Mozilla/5.0 (Windows NT 10.0; Win64; x64) Appl...</td>\n",
       "      <td>18c4eb97-c5a3-408a-b7d2-b300646cd208</td>\n",
       "      <td>Guest</td>\n",
       "    </tr>\n",
       "    <tr>\n",
       "      <th>2</th>\n",
       "      <td>2103509004.0</td>\n",
       "      <td>2907244163.0</td>\n",
       "      <td>GALLERY</td>\n",
       "      <td>10/22/2017 7:23:38 AM</td>\n",
       "      <td>https://www.facebook.com/</td>\n",
       "      <td>25231360</td>\n",
       "      <td>2017-10-22 18:00:38</td>\n",
       "      <td>Mozilla/5.0 (Windows NT 6.3; Win64; x64) Apple...</td>\n",
       "      <td>d318434f-8010-4581-be5b-33b6a9f84920</td>\n",
       "      <td>Guest</td>\n",
       "    </tr>\n",
       "    <tr>\n",
       "      <th>3</th>\n",
       "      <td>1090453527.0</td>\n",
       "      <td>2719417987.0</td>\n",
       "      <td>BOARD</td>\n",
       "      <td>10/22/2017 5:10:29 AM</td>\n",
       "      <td>https://scout.com/nfl/vikings/Board/102855/Con...</td>\n",
       "      <td>69664768</td>\n",
       "      <td>2017-10-22 18:00:45</td>\n",
       "      <td>Mozilla/5.0 (iPhone; CPU iPhone OS 11_0_3 like...</td>\n",
       "      <td>de97e16c-a053-407b-846f-3a7c7251a3a7</td>\n",
       "      <td>Guest</td>\n",
       "    </tr>\n",
       "    <tr>\n",
       "      <th>4</th>\n",
       "      <td>1000669260.0</td>\n",
       "      <td>3513583235.0</td>\n",
       "      <td>BOLT</td>\n",
       "      <td>10/22/2017 11:21:44 AM</td>\n",
       "      <td>http://m.facebook.com</td>\n",
       "      <td>25362432</td>\n",
       "      <td>2017-10-22 18:00:44</td>\n",
       "      <td>Mozilla/5.0 (iPhone; CPU iPhone OS 11_0_3 like...</td>\n",
       "      <td>fdc9218e-4fab-4a76-9895-51f49b90f7e0</td>\n",
       "      <td>Guest</td>\n",
       "    </tr>\n",
       "  </tbody>\n",
       "</table>\n",
       "</div>"
      ],
      "text/plain": [
       "      authorKey    contentKey pathRoot           publishedDate  \\\n",
       "0  1000669260.0  1557005915.0  GALLERY    8/29/2017 9:11:35 PM   \n",
       "1  1090453527.0  2719417987.0    BOARD   10/22/2017 5:10:29 AM   \n",
       "2  2103509004.0  2907244163.0  GALLERY   10/22/2017 7:23:38 AM   \n",
       "3  1090453527.0  2719417987.0    BOARD   10/22/2017 5:10:29 AM   \n",
       "4  1000669260.0  3513583235.0     BOLT  10/22/2017 11:21:44 AM   \n",
       "\n",
       "                                            referrer   siteKey  \\\n",
       "0  http://lm.facebook.com/l.php?u=http%3A%2F%2Fap...   2490368   \n",
       "1  https://scout.com/nfl/vikings/Board/102855/Con...  69664768   \n",
       "2                          https://www.facebook.com/  25231360   \n",
       "3  https://scout.com/nfl/vikings/Board/102855/Con...  69664768   \n",
       "4                              http://m.facebook.com  25362432   \n",
       "\n",
       "            timeStamp                                          userAgent  \\\n",
       "0 2017-10-22 18:00:41  Mozilla/5.0 (Linux; Android 5.1.1; SM-J100VPP ...   \n",
       "1 2017-10-22 18:00:45  Mozilla/5.0 (Windows NT 10.0; Win64; x64) Appl...   \n",
       "2 2017-10-22 18:00:38  Mozilla/5.0 (Windows NT 6.3; Win64; x64) Apple...   \n",
       "3 2017-10-22 18:00:45  Mozilla/5.0 (iPhone; CPU iPhone OS 11_0_3 like...   \n",
       "4 2017-10-22 18:00:44  Mozilla/5.0 (iPhone; CPU iPhone OS 11_0_3 like...   \n",
       "\n",
       "                                 userId userStatus  \n",
       "0  5252076e-8bfc-4fae-a2f1-4ff6ed1adab6      Guest  \n",
       "1  18c4eb97-c5a3-408a-b7d2-b300646cd208      Guest  \n",
       "2  d318434f-8010-4581-be5b-33b6a9f84920      Guest  \n",
       "3  de97e16c-a053-407b-846f-3a7c7251a3a7      Guest  \n",
       "4  fdc9218e-4fab-4a76-9895-51f49b90f7e0      Guest  "
      ]
     },
     "execution_count": 72,
     "metadata": {},
     "output_type": "execute_result"
    }
   ],
   "source": [
    "test_df.head()"
   ]
  },
  {
   "cell_type": "code",
   "execution_count": 69,
   "metadata": {
    "scrolled": true
   },
   "outputs": [
    {
     "data": {
      "text/html": [
       "<div>\n",
       "<style>\n",
       "    .dataframe thead tr:only-child th {\n",
       "        text-align: right;\n",
       "    }\n",
       "\n",
       "    .dataframe thead th {\n",
       "        text-align: left;\n",
       "    }\n",
       "\n",
       "    .dataframe tbody tr th {\n",
       "        vertical-align: top;\n",
       "    }\n",
       "</style>\n",
       "<table border=\"1\" class=\"dataframe\">\n",
       "  <thead>\n",
       "    <tr style=\"text-align: right;\">\n",
       "      <th></th>\n",
       "      <th>authorKey</th>\n",
       "      <th>contentKey</th>\n",
       "      <th>siteKey</th>\n",
       "    </tr>\n",
       "  </thead>\n",
       "  <tbody>\n",
       "    <tr>\n",
       "      <th>count</th>\n",
       "      <td>1.715200e+05</td>\n",
       "      <td>1.715200e+05</td>\n",
       "      <td>1.757240e+05</td>\n",
       "    </tr>\n",
       "    <tr>\n",
       "      <th>mean</th>\n",
       "      <td>1.761170e+09</td>\n",
       "      <td>2.671953e+09</td>\n",
       "      <td>2.723240e+07</td>\n",
       "    </tr>\n",
       "    <tr>\n",
       "      <th>std</th>\n",
       "      <td>9.838066e+08</td>\n",
       "      <td>1.230934e+09</td>\n",
       "      <td>1.481644e+07</td>\n",
       "    </tr>\n",
       "    <tr>\n",
       "      <th>min</th>\n",
       "      <td>6.553600e+04</td>\n",
       "      <td>9.846870e+05</td>\n",
       "      <td>2.097152e+06</td>\n",
       "    </tr>\n",
       "    <tr>\n",
       "      <th>25%</th>\n",
       "      <td>1.000669e+09</td>\n",
       "      <td>1.793591e+09</td>\n",
       "      <td>2.424832e+07</td>\n",
       "    </tr>\n",
       "    <tr>\n",
       "      <th>50%</th>\n",
       "      <td>1.636565e+09</td>\n",
       "      <td>3.076851e+09</td>\n",
       "      <td>2.483814e+07</td>\n",
       "    </tr>\n",
       "    <tr>\n",
       "      <th>75%</th>\n",
       "      <td>2.523529e+09</td>\n",
       "      <td>3.697674e+09</td>\n",
       "      <td>2.516582e+07</td>\n",
       "    </tr>\n",
       "    <tr>\n",
       "      <th>max</th>\n",
       "      <td>4.294050e+09</td>\n",
       "      <td>4.289202e+09</td>\n",
       "      <td>7.530086e+07</td>\n",
       "    </tr>\n",
       "  </tbody>\n",
       "</table>\n",
       "</div>"
      ],
      "text/plain": [
       "          authorKey    contentKey       siteKey\n",
       "count  1.715200e+05  1.715200e+05  1.757240e+05\n",
       "mean   1.761170e+09  2.671953e+09  2.723240e+07\n",
       "std    9.838066e+08  1.230934e+09  1.481644e+07\n",
       "min    6.553600e+04  9.846870e+05  2.097152e+06\n",
       "25%    1.000669e+09  1.793591e+09  2.424832e+07\n",
       "50%    1.636565e+09  3.076851e+09  2.483814e+07\n",
       "75%    2.523529e+09  3.697674e+09  2.516582e+07\n",
       "max    4.294050e+09  4.289202e+09  7.530086e+07"
      ]
     },
     "execution_count": 69,
     "metadata": {},
     "output_type": "execute_result"
    }
   ],
   "source": [
    "test_df.describe()"
   ]
  },
  {
   "cell_type": "code",
   "execution_count": null,
   "metadata": {
    "collapsed": true
   },
   "outputs": [],
   "source": [
    "def import_file(fname, hr_num): \n",
    "    for day_num in range(22, 23):\n",
    "        path = \"data/StreamToS3-5-2017-10-22-\" + hr_nm + \"*\"\n",
    "        #path = os.path.join('/data/StreamToS3-5-2017-10-22-', hr_nm)\n",
    "        day = datetime.date(year=2017, month=10, day=day_num)\n",
    "        for idx, fname in enumerate(glob.iglob(path)):\n",
    "            logger = logging.getLogger()\n",
    "            with open(fname, \"r\") as f:\n",
    "                contents = f.read().decode(\"utf-8\")\n",
    "            newsletter_traffic = []\n",
    "            for bit in contents[1:-1].split('}{'):\n",
    "                try:\n",
    "                    rec = json.loads(\"{\" + bit + \"}\")\n",
    "                except ValueError as e:\n",
    "                    logger.warning(\"BAD JSON\")\n",
    "                    continue\n",
    "                "
   ]
  }
 ],
 "metadata": {
  "kernelspec": {
   "display_name": "Python 3",
   "language": "python",
   "name": "python3"
  },
  "language_info": {
   "codemirror_mode": {
    "name": "ipython",
    "version": 3
   },
   "file_extension": ".py",
   "mimetype": "text/x-python",
   "name": "python",
   "nbconvert_exporter": "python",
   "pygments_lexer": "ipython3",
   "version": "3.6.1"
  }
 },
 "nbformat": 4,
 "nbformat_minor": 2
}
