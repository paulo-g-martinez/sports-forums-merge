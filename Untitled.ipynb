{
 "cells": [
  {
   "cell_type": "code",
   "execution_count": 7,
   "metadata": {
    "collapsed": true
   },
   "outputs": [],
   "source": [
    "import os\n",
    "import logging\n",
    "import datetime\n",
    "import json\n",
    "import glob"
   ]
  },
  {
   "cell_type": "code",
   "execution_count": 23,
   "metadata": {},
   "outputs": [],
   "source": [
    "#logger = logging.getLogger()"
   ]
  },
  {
   "cell_type": "code",
   "execution_count": 26,
   "metadata": {},
   "outputs": [],
   "source": [
    "'''\n",
    "for day_num in range (1, 32):\n",
    "    path = os.path.join('/data/kinesis/', \"{:02d}/*/*\".format(day_num))\n",
    "    day = datetime.date(year = 2017, month = 10, day = day_num)\n",
    "    #print(path, day)\n",
    "    for idx, fname in enumerate(glob.iglob(path)):\n",
    "        logger.info(\"{}: Working on {:,}\".format(day, idx))\n",
    "        with open(fnam, \"r\") as f:\n",
    "            contents = f.read().decode(\"utf-8\")\n",
    "        newsletter_traffic = []\n",
    "        for bit in contents[1:-1].split('}{'):\n",
    "            try:\n",
    "                rec = json.loads(\"{\" + bit + \"}\")\n",
    "            except ValueError as e:\n",
    "                logger.warning(\"BAD JSON\")\n",
    "                continue\n",
    "'''"
   ]
  },
  {
   "cell_type": "code",
   "execution_count": 37,
   "metadata": {},
   "outputs": [
    {
     "ename": "NameError",
     "evalue": "name 'f' is not defined",
     "output_type": "error",
     "traceback": [
      "\u001b[0;31m---------------------------------------------------------------------------\u001b[0m",
      "\u001b[0;31mNameError\u001b[0m                                 Traceback (most recent call last)",
      "\u001b[0;32m<ipython-input-37-10c11a62d86a>\u001b[0m in \u001b[0;36m<module>\u001b[0;34m()\u001b[0m\n\u001b[0;32m----> 1\u001b[0;31m \u001b[0moct22_00_1\u001b[0m \u001b[0;34m=\u001b[0m \u001b[0mf\u001b[0m\u001b[0;34m.\u001b[0m\u001b[0mread\u001b[0m\u001b[0;34m(\u001b[0m\u001b[0;34m\"/data/00/StreamToS3-5-2017-10-22-14-00-41-6be92738-5c2b-4d84-9769-7dfb1e083cdc\"\u001b[0m\u001b[0;34m)\u001b[0m\u001b[0;34m.\u001b[0m\u001b[0mdecode\u001b[0m\u001b[0;34m(\u001b[0m\u001b[0;34m\"utf-9\"\u001b[0m\u001b[0;34m)\u001b[0m\u001b[0;34m\u001b[0m\u001b[0m\n\u001b[0m",
      "\u001b[0;31mNameError\u001b[0m: name 'f' is not defined"
     ]
    }
   ],
   "source": [
    "oct22_00_1 = f.read(\"/data/00/StreamToS3-5-2017-10-22-14-00-41-6be92738-5c2b-4d84-9769-7dfb1e083cdc\").decode(\"utf-9\")"
   ]
  },
  {
   "cell_type": "raw",
   "metadata": {},
   "source": []
  }
 ],
 "metadata": {
  "kernelspec": {
   "display_name": "Python 3",
   "language": "python",
   "name": "python3"
  },
  "language_info": {
   "codemirror_mode": {
    "name": "ipython",
    "version": 3
   },
   "file_extension": ".py",
   "mimetype": "text/x-python",
   "name": "python",
   "nbconvert_exporter": "python",
   "pygments_lexer": "ipython3",
   "version": "3.6.2"
  }
 },
 "nbformat": 4,
 "nbformat_minor": 2
}
