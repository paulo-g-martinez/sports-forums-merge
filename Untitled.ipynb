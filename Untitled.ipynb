{
 "cells": [
  {
   "cell_type": "code",
   "execution_count": 7,
   "metadata": {
    "collapsed": true
   },
   "outputs": [],
   "source": [
    "import os\n",
    "import logging\n",
    "import datetime\n",
    "import json\n",
    "import glob\n",
    "import csv"
   ]
  },
  {
   "cell_type": "code",
   "execution_count": 23,
   "metadata": {
    "collapsed": true
   },
   "outputs": [],
   "source": [
    "#logger = logging.getLogger()"
   ]
  },
  {
   "cell_type": "code",
   "execution_count": 26,
   "metadata": {
    "collapsed": true
   },
   "outputs": [],
   "source": [
    "'''for day_num in range (1, 32):\n",
    "    path = os.path.join('/data/kinesis/', \"{:02d}/*/*\".format(day_num))\n",
    "    day = datetime.date(year = 2017, month = 10, day = day_num)\n",
    "    #print(path, day)\n",
    "    for idx, fname in enumerate(glob.iglob(path)):\n",
    "        logger.info(\"{}: Working on {:,}\".format(day, idx))\n",
    "        with open(fnam, \"r\") as f:\n",
    "            contents = f.read().decode(\"utf-8\")\n",
    "        newsletter_traffic = []\n",
    "        for bit in contents[1:-1].split('}{'):\n",
    "            try:\n",
    "                rec = json.loads(\"{\" + bit + \"}\")\n",
    "            except ValueError as e:\n",
    "                logger.warning(\"BAD JSON\")\n",
    "                continue'''"
   ]
  },
  {
   "cell_type": "code",
   "execution_count": 9,
   "metadata": {},
   "outputs": [],
   "source": [
    "mypth1 = \"data/00/StreamToS3-5-2017-10-22-00-01-18-4c3dcc63-7078-4102-8dbe-e5e4f2fb4716\""
   ]
  },
  {
   "cell_type": "code",
   "execution_count": 10,
   "metadata": {},
   "outputs": [
    {
     "data": {
      "text/plain": [
       "'data/00/StreamToS3-5-2017-10-22-00-01-18-4c3dcc63-7078-4102-8dbe-e5e4f2fb4716'"
      ]
     },
     "execution_count": 10,
     "metadata": {},
     "output_type": "execute_result"
    }
   ],
   "source": [
    "mypth1"
   ]
  },
  {
   "cell_type": "code",
   "execution_count": null,
   "metadata": {
    "collapsed": true
   },
   "outputs": [],
   "source": [
    "for obj in file"
   ]
  }
 ],
 "metadata": {
  "kernelspec": {
   "display_name": "Python 3",
   "language": "python",
   "name": "python3"
  },
  "language_info": {
   "codemirror_mode": {
    "name": "ipython",
    "version": 3
   },
   "file_extension": ".py",
   "mimetype": "text/x-python",
   "name": "python",
   "nbconvert_exporter": "python",
   "pygments_lexer": "ipython3",
   "version": "3.6.2"
  }
 },
 "nbformat": 4,
 "nbformat_minor": 2
}
